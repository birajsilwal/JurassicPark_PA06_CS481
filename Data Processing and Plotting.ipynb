{
 "cells": [
  {
   "cell_type": "markdown",
   "id": "ea2c4254",
   "metadata": {},
   "source": [
    "#### SIMCOV Data"
   ]
  },
  {
   "cell_type": "code",
   "execution_count": 1,
   "id": "d6432aed",
   "metadata": {},
   "outputs": [],
   "source": [
    "import numpy \n",
    "import matplotlib.pyplot as plt\n",
    "from pathlib import Path\n",
    "import pickle as pkl"
   ]
  },
  {
   "cell_type": "markdown",
   "id": "09ed8f83",
   "metadata": {},
   "source": [
    "##### Import Data"
   ]
  },
  {
   "cell_type": "code",
   "execution_count": 2,
   "id": "18daa89e",
   "metadata": {},
   "outputs": [],
   "source": [
    "path = '/Users/bethanypena/Desktop/PA06'\n",
    "filename = Path(path,'output.txt')\n",
    "\n",
    "f = open(filename, 'r')\n",
    "lines = f.readlines()\n",
    "data = {}\n",
    "\n",
    "headers = {'timestep', 'arrived', 'rejected', 'wait-line'}\n",
    "\n",
    "for header in headers:\n",
    "    data[header] = []\n",
    "    \n",
    "for x in lines:\n",
    "    line = x.split(' ')\n",
    "\n",
    "    data['timestep'].append(line[0])\n",
    "    data['arrived'].append(line[2])\n",
    "    data['rejected'].append(line[4])\n",
    "    data['wait-line'].append(line[6])\n",
    "    \n",
    "    \n",
    "## convert from string to proper data type\n",
    "for key in data.keys():\n",
    "    data[key] = list(map(int,data[key]))"
   ]
  },
  {
   "cell_type": "code",
   "execution_count": null,
   "id": "bb04392e",
   "metadata": {},
   "outputs": [],
   "source": []
  }
 ],
 "metadata": {
  "kernelspec": {
   "display_name": "Python 3",
   "language": "python",
   "name": "python3"
  },
  "language_info": {
   "codemirror_mode": {
    "name": "ipython",
    "version": 3
   },
   "file_extension": ".py",
   "mimetype": "text/x-python",
   "name": "python",
   "nbconvert_exporter": "python",
   "pygments_lexer": "ipython3",
   "version": "3.8.8"
  }
 },
 "nbformat": 4,
 "nbformat_minor": 5
}
